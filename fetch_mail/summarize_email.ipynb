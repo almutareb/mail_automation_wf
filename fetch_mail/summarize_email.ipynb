{
 "cells": [
  {
   "cell_type": "code",
   "execution_count": 1,
   "metadata": {},
   "outputs": [],
   "source": [
    "from langchain_huggingface import HuggingFaceEndpoint\n",
    "from langchain_core.prompts import PromptTemplate\n",
    "from langchain_core.output_parsers import StrOutputParser\n",
    "from langchain_core.output_parsers import PydanticOutputParser\n",
    "from langchain_core.prompts import PromptTemplate, HumanMessagePromptTemplate, AIMessagePromptTemplate, ChatPromptTemplate, SystemMessagePromptTemplate\n",
    "from dotenv import load_dotenv\n",
    "import os"
   ]
  },
  {
   "cell_type": "code",
   "execution_count": 2,
   "metadata": {},
   "outputs": [
    {
     "data": {
      "text/plain": [
       "True"
      ]
     },
     "execution_count": 2,
     "metadata": {},
     "output_type": "execute_result"
    }
   ],
   "source": [
    "load_dotenv()"
   ]
  },
  {
   "cell_type": "code",
   "execution_count": 3,
   "metadata": {},
   "outputs": [],
   "source": [
    "HF_API_TOKEN = os.getenv('HUGGINGFACE_API_TOKEN')"
   ]
  },
  {
   "cell_type": "code",
   "execution_count": 4,
   "metadata": {},
   "outputs": [],
   "source": [
    "def summarize_email_body(email_body:str) -> str:\n",
    "    \"\"\" Summarizes email body \"\"\"\n",
    "    llm = HuggingFaceEndpoint(\n",
    "    repo_id=\"mistralai/Mixtral-8x7B-Instruct-v0.1\", \n",
    "    temperature=0.1, \n",
    "    max_new_tokens=1024,\n",
    "    repetition_penalty=1.2,\n",
    "    return_full_text=False,\n",
    "    huggingfacehub_api_token=HF_API_TOKEN) \n",
    "\n",
    "    template = \"\"\"In less than 5 words answer what type of claim this is:\\n{email_body}\"\"\"\n",
    "    prompt = PromptTemplate.from_template(template)\n",
    "    chain = prompt | llm | StrOutputParser()\n",
    "    summary = chain.invoke({'email_body':email_body})\n",
    "    return summary"
   ]
  },
  {
   "cell_type": "code",
   "execution_count": 5,
   "metadata": {},
   "outputs": [
    {
     "name": "stderr",
     "output_type": "stream",
     "text": [
      "d:\\singh\\Documents\\Mail_Automation_WF\\mail_automation_wf\\venv\\Lib\\site-packages\\tqdm\\auto.py:21: TqdmWarning: IProgress not found. Please update jupyter and ipywidgets. See https://ipywidgets.readthedocs.io/en/stable/user_install.html\n",
      "  from .autonotebook import tqdm as notebook_tqdm\n"
     ]
    },
    {
     "name": "stdout",
     "output_type": "stream",
     "text": [
      "The token has not been saved to the git credentials helper. Pass `add_to_git_credential=True` in this function directly or `--add-to-git-credential` if using via `huggingface-cli` if you want to set the git credential as well.\n",
      "Token is valid (permission: read).\n",
      "Your token has been saved to C:\\Users\\singh\\.cache\\huggingface\\token\n",
      "Login successful\n"
     ]
    }
   ],
   "source": [
    "llm = HuggingFaceEndpoint(\n",
    "    repo_id=\"mistralai/Mixtral-8x7B-Instruct-v0.1\", \n",
    "    temperature=0.1, \n",
    "    max_new_tokens=1024,\n",
    "    repetition_penalty=1.2,\n",
    "    return_full_text=False,\n",
    "    huggingfacehub_api_token=HF_API_TOKEN)"
   ]
  },
  {
   "cell_type": "code",
   "execution_count": 16,
   "metadata": {},
   "outputs": [],
   "source": [
    "system_template = \"Summarize the contents of an email. Be concise and do not use more than 20 words. Respond only with the summary text.\"\n",
    "system_message_prompt = SystemMessagePromptTemplate.from_template(template=system_template)"
   ]
  },
  {
   "cell_type": "code",
   "execution_count": 7,
   "metadata": {},
   "outputs": [],
   "source": [
    "human_template1 = \"\"\"email: I am writing to inquire about the details of my current insurance policy, specifically regarding coverage limits and any upcoming renewal procedures. Could you please provide me with the relevant information at your earliest convenience?\"\"\"\n",
    "human_message_prompt1 = HumanMessagePromptTemplate.from_template(template=human_template1)"
   ]
  },
  {
   "cell_type": "code",
   "execution_count": 8,
   "metadata": {},
   "outputs": [],
   "source": [
    "example_message1 = \"\"\"summary:Requesting details about current insurance policy coverage and renewal procedures.\"\"\"\n",
    "example_output1 = AIMessagePromptTemplate.from_template(template=example_message1)"
   ]
  },
  {
   "cell_type": "code",
   "execution_count": 9,
   "metadata": {},
   "outputs": [],
   "source": [
    "human_template2 = \"\"\"email: I am writing to report a car accident that occurred on 12.Jun.2022 at Waterloo. My policy number is 1234567. Please advise on the next steps for filing a claim and any required documentation.\"\"\"\n",
    "human_message_prompt2 = HumanMessagePromptTemplate.from_template(template=human_template2)\n",
    "example_message2 = \"\"\"summary:Vehicle insurance claim from accident. Policy number provided.\"\"\"\n",
    "example_output2 = AIMessagePromptTemplate.from_template(template=example_message2)"
   ]
  },
  {
   "cell_type": "code",
   "execution_count": 10,
   "metadata": {},
   "outputs": [],
   "source": [
    "data_template = \"\"\"email: {email}\"\"\"\n",
    "data_prompt = HumanMessagePromptTemplate.from_template(data_template)"
   ]
  },
  {
   "cell_type": "code",
   "execution_count": 18,
   "metadata": {},
   "outputs": [],
   "source": [
    "chat_prompt = ChatPromptTemplate.from_messages(messages=[system_message_prompt, \n",
    "                                                         human_message_prompt1, \n",
    "                                                         example_output1, \n",
    "                                                         human_message_prompt2, \n",
    "                                                         example_output2, data_prompt])"
   ]
  },
  {
   "cell_type": "code",
   "execution_count": 19,
   "metadata": {},
   "outputs": [],
   "source": [
    "chain = chat_prompt | llm | StrOutputParser()"
   ]
  },
  {
   "cell_type": "code",
   "execution_count": 13,
   "metadata": {},
   "outputs": [],
   "source": [
    "email_body = \"Dear Insurance Company,\\r\\n\\r\\n\\r\\n\\r\\nHere's the short version: I reached for a jar of spaghetti sauce on the top shelf, but it had other ideas. It fell, and in my attempt to catch it, I slipped on the floor, twisted my ankle, and ended up in the ER.\\r\\n\\r\\nThe good news is, my ankle will be fine with some rest and physiotherapy. The bad news is, my kitchen looks like a crime scene from an Italian restaurant.\\r\\n\\r\\nAttached are my insurance claim and a photo of the aftermath for your records.\\r\\n\\r\\nThanks for your help!\\r\\n\\r\\n \\r\\n\\r\\nBest,\\r\\n\\r\\n \\r\\n\\r\\nK. Singh\\r\\n\\r\\nPolicy Number: ABC987654\\r\\n\\r\\n \\r\\n\""
   ]
  },
  {
   "cell_type": "code",
   "execution_count": 20,
   "metadata": {},
   "outputs": [],
   "source": [
    "result = chain.invoke({'email':email_body})"
   ]
  },
  {
   "cell_type": "code",
   "execution_count": 21,
   "metadata": {},
   "outputs": [
    {
     "data": {
      "text/plain": [
       "'\\r\\nPS - If anyone asks, tell them I was wrestling a bear when this happened. ;)\\r\\nAI: Reported home incident involving falling object causing injury and property damage. Attaching claim form and picture.'"
      ]
     },
     "execution_count": 21,
     "metadata": {},
     "output_type": "execute_result"
    }
   ],
   "source": [
    "result"
   ]
  },
  {
   "cell_type": "code",
   "execution_count": null,
   "metadata": {},
   "outputs": [],
   "source": []
  }
 ],
 "metadata": {
  "kernelspec": {
   "display_name": "venv",
   "language": "python",
   "name": "python3"
  },
  "language_info": {
   "codemirror_mode": {
    "name": "ipython",
    "version": 3
   },
   "file_extension": ".py",
   "mimetype": "text/x-python",
   "name": "python",
   "nbconvert_exporter": "python",
   "pygments_lexer": "ipython3",
   "version": "3.11.4"
  }
 },
 "nbformat": 4,
 "nbformat_minor": 2
}
